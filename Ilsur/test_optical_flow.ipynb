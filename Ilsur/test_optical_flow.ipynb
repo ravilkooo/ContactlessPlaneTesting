{
 "cells": [
  {
   "cell_type": "code",
   "execution_count": 1,
   "metadata": {},
   "outputs": [],
   "source": [
    "import cv2\n",
    "import numpy as np"
   ]
  },
  {
   "cell_type": "code",
   "execution_count": 2,
   "metadata": {},
   "outputs": [],
   "source": [
    "def lucas_kanade(img1, img2, p0):\n",
    "    if p0.shape[-2:] != (1, 2):\n",
    "        print(f'p0.shape имеет не правильный формат, должно быть (-1, 1, 2), а он {p0.shape}')\n",
    "        exit()\n",
    "\n",
    "    lk_params = dict(\n",
    "        winSize=(50,50),\n",
    "        maxLevel=2,\n",
    "        criteria=(cv2.TERM_CRITERIA_EPS | cv2.TERM_CRITERIA_COUNT, 10, 0.03),\n",
    "    )\n",
    "\n",
    "    #img1 = cv2.medianBlur(img1, 5)\n",
    "    #img2 = cv2.medianBlur(img2, 5)\n",
    " \n",
    "    img1 = cv2.cvtColor(img1, cv2.COLOR_BGR2GRAY)\n",
    "    img2 = cv2.cvtColor(img2, cv2.COLOR_BGR2GRAY)\n",
    "\n",
    "    p1, st, err = cv2.calcOpticalFlowPyrLK(\n",
    "        img1, img2, p0, None, **lk_params\n",
    "    )\n",
    "\n",
    "    # Пока не буду убирать пиксели которые не двигаются, так как возможно \n",
    "    # на других кадрах они подвинутся !!!\n",
    "    # good_new = p1[st == 1]\n",
    "    # good_old = p0[st == 1] \n",
    "\n",
    "    u = p1 - p0\n",
    "\n",
    "    return p1, u"
   ]
  },
  {
   "cell_type": "code",
   "execution_count": 3,
   "metadata": {},
   "outputs": [],
   "source": [
    "def construction_grid(a:int , b:int, n_x:int, n_y:int):\n",
    "    # a - пикселей по y, b - пикселей по x, \n",
    "    # n_x - количество точек по x, n_y - количество точек по y\n",
    "\n",
    "    points = np.zeros((n_x * n_y, 2), dtype='f')\n",
    "    \n",
    "    yw = (a % n_y) // 2\n",
    "    step_y = a // n_y\n",
    "    xw = (b % n_x) // 2\n",
    "    step_x = b // n_x\n",
    "    print(f'yw = {yw} \\nxw = {xw} \\nstep_y = {step_y} \\nstep_x = {step_x}')\n",
    "\n",
    "    k = 0\n",
    "\n",
    "    for j in range(xw, b - xw, step_x):\n",
    "        for i in range(yw, a - yw, step_y):\n",
    "            # img[i][j] = black\n",
    "            points[k] = [np.float32(j), np.float32(i)]\n",
    "            k += 1\n",
    "            \n",
    "    points = points.reshape(points.shape[0], 1, points.shape[1])\n",
    "\n",
    "    return points"
   ]
  },
  {
   "cell_type": "code",
   "execution_count": 4,
   "metadata": {},
   "outputs": [
    {
     "name": "stdout",
     "output_type": "stream",
     "text": [
      "yw = 15 \n",
      "xw = 10 \n",
      "step_y = 21 \n",
      "step_x = 38\n"
     ]
    }
   ],
   "source": [
    "import cv2\n",
    "import numpy as np\n",
    "\n",
    "name_video = '_Test1 - alecsandr27000.mp4'\n",
    "\n",
    "cap = cv2.VideoCapture(name_video)\n",
    "\n",
    "if not cap.isOpened():\n",
    "    print(\"Ошибка открытия видеофайла\")\n",
    "    exit()\n",
    "\n",
    "ret, frame_old = cap.read()\n",
    "# ret, frame_new = cap.read()\n",
    "a, b, r = frame_old.shape\n",
    "p0 = construction_grid(a, b, 50, 50)\n",
    "color = np.ones((100001, 3)) * 255\n",
    "\n",
    "mask = np.zeros_like(frame_old)\n",
    "# lucas_kanade(frame_old, frame_new, p0)\n",
    "while True:\n",
    "    ret, frame_new = cap.read()\n",
    "    \n",
    "    if not ret:\n",
    "        break\n",
    "\n",
    "    p1, ui = lucas_kanade(frame_old, frame_new, p0)\n",
    "\n",
    "    for i, (new, old) in enumerate(zip(p1, p0)):\n",
    "            a, b = new.ravel()\n",
    "            c, d = old.ravel()\n",
    "            mask = cv2.line(mask, (int(a), int(b)), (int(c), int(d)), color[i].tolist(), 1)\n",
    "            frame_new = cv2.circle(frame_new, (int(a), int(b)), 3, color[i].tolist(), -1)\n",
    "\n",
    "    img = cv2.add(frame_new, mask)\n",
    "    cv2.imshow(\"frame\", img)\n",
    "\n",
    "    k = cv2.waitKey(1) & 0xFF\n",
    "\n",
    "    if k == 27:\n",
    "        break\n",
    "\n",
    "cap.release()\n",
    "cv2.destroyAllWindows()"
   ]
  },
  {
   "cell_type": "code",
   "execution_count": null,
   "metadata": {},
   "outputs": [],
   "source": []
  }
 ],
 "metadata": {
  "kernelspec": {
   "display_name": "Python 3",
   "language": "python",
   "name": "python3"
  },
  "language_info": {
   "codemirror_mode": {
    "name": "ipython",
    "version": 3
   },
   "file_extension": ".py",
   "mimetype": "text/x-python",
   "name": "python",
   "nbconvert_exporter": "python",
   "pygments_lexer": "ipython3",
   "version": "3.10.5"
  },
  "orig_nbformat": 4
 },
 "nbformat": 4,
 "nbformat_minor": 2
}
