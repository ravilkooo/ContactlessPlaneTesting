{
 "cells": [
  {
   "cell_type": "code",
   "execution_count": 2,
   "metadata": {},
   "outputs": [],
   "source": [
    "import cv2\n",
    "import numpy as np"
   ]
  },
  {
   "cell_type": "code",
   "execution_count": 3,
   "metadata": {},
   "outputs": [],
   "source": [
    "from os.path import join as pjoin\n",
    "from tqdm import tqdm"
   ]
  },
  {
   "cell_type": "code",
   "execution_count": 4,
   "metadata": {},
   "outputs": [],
   "source": [
    "def lucas_kanade(img1, img2, p0):\n",
    "    if p0.shape[-2:] != (1, 2):\n",
    "        print(f'p0.shape имеет не правильный формат, должно быть (-1, 1, 2), а он {p0.shape}')\n",
    "        exit()\n",
    "\n",
    "    lk_params = dict(\n",
    "        winSize=(50,50),\n",
    "        maxLevel=2,\n",
    "        criteria=(cv2.TERM_CRITERIA_EPS | cv2.TERM_CRITERIA_COUNT, 10, 0.03),\n",
    "    )\n",
    "\n",
    "    #img1 = cv2.medianBlur(img1, 5)\n",
    "    #img2 = cv2.medianBlur(img2, 5)\n",
    " \n",
    "    img1 = cv2.cvtColor(img1, cv2.COLOR_BGR2GRAY)\n",
    "    img2 = cv2.cvtColor(img2, cv2.COLOR_BGR2GRAY)\n",
    "\n",
    "    p1, st, err = cv2.calcOpticalFlowPyrLK(\n",
    "        img1, img2, p0, None, **lk_params\n",
    "    )\n",
    "\n",
    "    # Пока не буду убирать пиксели которые не двигаются, так как возможно \n",
    "    # на других кадрах они подвинутся !!!\n",
    "    # good_new = p1[st == 1]\n",
    "    # good_old = p0[st == 1] \n",
    "\n",
    "    u = p1 - p0\n",
    "\n",
    "    return p1, u"
   ]
  },
  {
   "cell_type": "code",
   "execution_count": 5,
   "metadata": {},
   "outputs": [],
   "source": [
    "def construction_grid(a:int , b:int, n_x:int, n_y:int):\n",
    "    # a - пикселей по y, b - пикселей по x, \n",
    "    # n_x - количество точек по x, n_y - количество точек по y\n",
    "\n",
    "    points = np.zeros((n_x * n_y, 2), dtype='f')\n",
    "    \n",
    "    yw = (a % n_y) // 2\n",
    "    step_y = a // n_y\n",
    "    xw = (b % n_x) // 2\n",
    "    step_x = b // n_x\n",
    "    print(f'yw = {yw} \\nxw = {xw} \\nstep_y = {step_y} \\nstep_x = {step_x}')\n",
    "\n",
    "    k = 0\n",
    "\n",
    "    for j in range(xw, b - xw, step_x):\n",
    "        for i in range(yw, a - yw, step_y):\n",
    "            # img[i][j] = black\n",
    "            points[k] = [np.float32(j), np.float32(i)]\n",
    "            k += 1\n",
    "            \n",
    "    points = points.reshape(points.shape[0], 1, points.shape[1])\n",
    "\n",
    "    return points"
   ]
  },
  {
   "cell_type": "code",
<<<<<<< HEAD
   "execution_count": 8,
=======
   "execution_count": 34,
   "metadata": {},
   "outputs": [],
   "source": [
    "name_video = pjoin('..', '_insc_video.mp4')\n",
    "\n",
    "cap = cv2.VideoCapture(name_video)\n",
    "\n",
    "if not cap.isOpened():\n",
    "    print(\"Ошибка открытия видеофайла\")\n",
    "    exit()"
   ]
  },
  {
   "cell_type": "code",
   "execution_count": 35,
   "metadata": {},
   "outputs": [],
   "source": [
    "total_frames = int(cap.get(cv2.CAP_PROP_FRAME_COUNT))"
   ]
  },
  {
   "cell_type": "code",
   "execution_count": 36,
>>>>>>> c8eda60c0aab4ee1a32d7c107ff005f3750ea096
   "metadata": {},
   "outputs": [
    {
     "name": "stdout",
     "output_type": "stream",
     "text": [
      "yw = 9 \n",
      "xw = 1 \n",
      "step_y = 16 \n",
      "step_x = 44\n"
     ]
    }
   ],
   "source": [
    "ret, frame_old = cap.read()\n",
    "# ret, frame_new = cap.read()\n",
    "a, b, r = frame_old.shape\n",
    "p0 = construction_grid(a, b, 50, 50)\n",
    "color = np.ones((100001, 3)) * 255\n",
    "\n",
    "out_video_name = '_out_video.mp4'\n",
    "fourcc = cv2.VideoWriter_fourcc(*'mp4v')\n",
    "frame_width, frame_height = b, a\n",
    "out_video = cv2.VideoWriter(out_video_name, fourcc, 30.0, (frame_width, frame_height))\n",
    "\n",
    "mask = np.zeros_like(frame_old)\n",
    "# lucas_kanade(frame_old, frame_new, p0)"
   ]
  },
  {
   "cell_type": "code",
   "execution_count": 37,
   "metadata": {},
   "outputs": [
    {
     "data": {
      "text/plain": [
       "(2500, 2)"
      ]
     },
     "execution_count": 37,
     "metadata": {},
     "output_type": "execute_result"
    }
   ],
   "source": [
    "np.squeeze(p0).shape"
   ]
  },
  {
   "cell_type": "code",
   "execution_count": 38,
   "metadata": {},
   "outputs": [
    {
     "data": {
      "text/plain": [
       "(154, 2500, 2)"
      ]
     },
     "execution_count": 38,
     "metadata": {},
     "output_type": "execute_result"
    }
   ],
   "source": [
    "total_frames, *(np.squeeze(p0).shape)"
   ]
  },
  {
   "cell_type": "code",
   "execution_count": 39,
   "metadata": {},
   "outputs": [],
   "source": [
    "all_pos_vals = np.zeros((total_frames, *(np.squeeze(p0).shape)))\n",
    "all_ui_vals = np.zeros((total_frames, *(np.squeeze(p0).shape)))"
   ]
  },
  {
   "cell_type": "code",
   "execution_count": 40,
   "metadata": {},
   "outputs": [],
   "source": [
    "all_pos_vals[0] = np.squeeze(p0)"
   ]
  },
  {
   "cell_type": "code",
   "execution_count": 41,
   "metadata": {},
   "outputs": [
    {
     "data": {
      "text/plain": [
       "(154, 2500, 2)"
      ]
     },
     "execution_count": 41,
     "metadata": {},
     "output_type": "execute_result"
    }
   ],
   "source": [
    "all_pos_vals.shape"
   ]
  },
  {
   "cell_type": "code",
   "execution_count": 42,
   "metadata": {},
   "outputs": [],
   "source": [
    "frame_idx = 0\n",
    "while True:\n",
    "    ret, frame_new = cap.read()\n",
    "    \n",
    "    if not ret:\n",
    "        break\n",
    "\n",
    "    p1, ui = lucas_kanade(frame_old, frame_new, p0)\n",
    "\n",
    "    all_pos_vals[frame_idx] = np.squeeze(p1)\n",
    "    all_ui_vals[frame_idx] = np.squeeze(ui)\n",
    "\n",
    "    for i, (new, old) in enumerate(zip(p1, p0)):\n",
    "            a, b = new.ravel()\n",
    "            c, d = old.ravel()\n",
    "            mask = cv2.line(mask, (int(a), int(b)), (int(c), int(d)), color[i].tolist(), 1)\n",
    "            frame_new = cv2.circle(frame_new, (int(a), int(b)), 3, color[i].tolist(), -1)\n",
    "\n",
    "    img = cv2.add(frame_new, mask)\n",
    "    out_video.write(img)\n",
    "\n",
    "    k = cv2.waitKey(1) & 0xFF\n",
    "\n",
    "    if k == 27:\n",
    "        break\n",
    "    \n",
    "    frame_idx += 1\n",
    "cap.release()\n",
    "out_video.release()\n",
    "cv2.destroyAllWindows()"
   ]
  },
  {
   "cell_type": "markdown",
   "metadata": {},
   "source": [
    "# Result"
   ]
  },
  {
   "cell_type": "code",
   "execution_count": 1,
   "metadata": {},
   "outputs": [],
   "source": [
<<<<<<< HEAD
    "def lucas_kanade(img1, img2, p0):\n",
    "    if p0.shape[-2:] != (1, 2):\n",
    "        print(f'p0.shape имеет не правильный формат, должно быть (-1, 1, 2), а он {p0.shape}')\n",
    "        exit()\n",
    "\n",
    "    lk_params = dict(\n",
    "        winSize=(50,50),\n",
    "        maxLevel=2,\n",
    "        criteria=(cv2.TERM_CRITERIA_EPS | cv2.TERM_CRITERIA_COUNT, 10, 0.04),\n",
    "    )\n",
    "\n",
    "    img1 = cv2.medianBlur(img1, 5)\n",
    "    img2 = cv2.medianBlur(img2, 5)\n",
    " \n",
    "    img1 = cv2.cvtColor(img1, cv2.COLOR_BGR2GRAY)\n",
    "    img2 = cv2.cvtColor(img2, cv2.COLOR_BGR2GRAY)\n",
    "\n",
    "    p1, st, err = cv2.calcOpticalFlowPyrLK(\n",
    "        img1, img2, p0, None, **lk_params\n",
    "    )\n",
    "\n",
    "    # Пока не буду убирать пиксели которые не двигаются, так как возможно \n",
    "    # на других кадрах они подвинутся !!!\n",
    "    # good_new = p1[st == 1]\n",
    "    # good_old = p0[st == 1] \n",
    "\n",
    "    u = p1 - p0\n",
    "\n",
    "    return p1, u"
=======
    "np.save('all_pos_vals.npy', all_pos_vals)\n",
    "np.save('all_ui_vals.npy', all_ui_vals)"
>>>>>>> c8eda60c0aab4ee1a32d7c107ff005f3750ea096
   ]
  },
  {
   "cell_type": "code",
<<<<<<< HEAD
   "execution_count": 2,
   "metadata": {},
   "outputs": [],
   "source": [
    "def construction_grid(a:int , b:int, n_x:int, n_y:int):\n",
    "    # a - пикселей по y, b - пикселей по x, \n",
    "    # n_x - количество точек по x, n_y - количество точек по y\n",
    "\n",
    "    points = np.zeros((n_x * n_y, 2), dtype='f')\n",
    "    \n",
    "    yw = (a % n_y) // 2\n",
    "    step_y = a // n_y\n",
    "    xw = (b % n_x) // 2\n",
    "    step_x = b // n_x\n",
    "    print(f'yw = {yw} \\nxw = {xw} \\nstep_y = {step_y} \\nstep_x = {step_x}')\n",
    "\n",
    "    k = 0\n",
    "\n",
    "    for j in range(xw, b - xw, step_x):\n",
    "        for i in range(yw, a - yw, step_y):\n",
    "            # img[i][j] = black\n",
    "            points[k] = [np.float32(j), np.float32(i)]\n",
    "            k += 1\n",
    "            \n",
    "    points = points.reshape(points.shape[0], 1, points.shape[1])\n",
    "\n",
    "    return points"
=======
   "execution_count": 31,
   "metadata": {},
   "outputs": [],
   "source": [
    "p1 = np.squeeze(p1)"
>>>>>>> c8eda60c0aab4ee1a32d7c107ff005f3750ea096
   ]
  },
  {
   "cell_type": "code",
<<<<<<< HEAD
   "execution_count": 4,
   "metadata": {},
   "outputs": [],
   "source": [
    "def Calc_defor_for_one_cell(O1:list, O2:list, O3:list, U1:list, U2:list, U3:list) -> list:\n",
    "    \n",
    "    x1, y1 = O1[0], O1[1]\n",
    "    x2, y2 = O2[0], O2[1]\n",
    "    x3, y3 = O3[0], O3[1]\n",
    "    \n",
    "    Ux1, Uy1 = U1[0], U1[1]\n",
    "    Ux2, Uy2 = U2[0], U2[1]\n",
    "    Ux3, Uy3 = U3[0], U3[1]\n",
    "    \n",
    "    F = np.array([[1, x1, y1],\n",
    "                  [1, x2, y2],\n",
    "                  [1, x3, y3]])\n",
    "    A = np.linalg.det(F)\n",
    "    \n",
    "    d = np.array([Ux1, Uy1, Ux2, Uy2, Ux3, Uy3]).reshape((6, ))\n",
    "    \n",
    "    B = np.array([[y2 - y3, 0, y3 - y1, 0, y1 - y2, 0],\n",
    "                  [0, x3 - x2, 0, x1 - x3, 0, x2 - x1],\n",
    "                  [x3 - x2, y2 - y3, x1 - x3, y3 - y1, x2 - x1, y1 - y2]])\n",
    "    \n",
    "    E = B @ d / A\n",
    "    \n",
    "    return E\n",
    "\n",
    "\n",
    "def Calc_defor_for_all_cells(Coon_table:list, Coord_table:list, Movement:list)->list:\n",
    "    E = np.zeros((len(Coon_table), 3))\n",
    "    \n",
    "    for O_id in range(len(Coon_table)):\n",
    "        O1_id, O2_id, O3_id = int(Coon_table[O_id][0]), int(Coon_table[O_id][1]), int(Coon_table[O_id][2])\n",
    "        \n",
    "        O1 = Coord_table[O1_id]  \n",
    "        O2 = Coord_table[O2_id]\n",
    "        O3 = Coord_table[O3_id]\n",
    "        U1, U2, U3 = Movement[O1_id], Movement[O2_id], Movement[O3_id]\n",
    "        \n",
    "        E[O_id] = Calc_defor_for_one_cell(O1, O2, O3, U1, U2, U3)\n",
    "        \n",
    "    return E"
=======
   "execution_count": 32,
   "metadata": {},
   "outputs": [],
   "source": [
    "ui = np.squeeze(ui)"
>>>>>>> c8eda60c0aab4ee1a32d7c107ff005f3750ea096
   ]
  },
  {
   "cell_type": "code",
<<<<<<< HEAD
   "execution_count": 5,
   "metadata": {},
   "outputs": [],
   "source": [
    "def take_E_coord(Coon_table:list, Coord_table:list)->list:\n",
    "    Coord_of_E = np.zeros((len(Coon_table), 2))\n",
    "    \n",
    "    for O_id in range(len(Coon_table)):\n",
    "        O1_id, O2_id, O3_id = int(Coon_table[O_id][0]), int(Coon_table[O_id][1]), int(Coon_table[O_id][2])\n",
    "        \n",
    "        O1, O2, O3 = Coord_table[O1_id], Coord_table[O2_id], Coord_table[O3_id] \n",
    "        \n",
    "        Coord_of_E[O_id] = (np.array(O1) + np.array(O2) + np.array(O3)) / 3 \n",
    "        \n",
    "    return Coord_of_E"
=======
   "execution_count": 33,
   "metadata": {},
   "outputs": [],
   "source": [
    "from matplotlib import pyplot as plt"
>>>>>>> c8eda60c0aab4ee1a32d7c107ff005f3750ea096
   ]
  },
  {
   "cell_type": "code",
<<<<<<< HEAD
   "execution_count": 7,
   "metadata": {},
   "outputs": [
    {
     "name": "stdout",
     "output_type": "stream",
     "text": [
      "[0.00748291 0.05686398 0.11059608]\n",
      "[-0.00789185 -0.1371973  -0.09081688]\n",
      "[0.00834045 0.04016724 0.14333344]\n",
      "[-0.01186981 -0.12376194 -0.19211311]\n",
      "[0.01174774 0.07274303 0.12150383]\n",
      "[-0.00878906 -0.06084614 -0.14328156]\n",
      "[0.01755919 0.06886139 0.14559174]\n",
      "[-0.01581969 -0.08615341 -0.17252579]\n",
      "[0.01450043 0.05376434 0.12425079]\n",
      "[-0.01537652 -0.11714554 -0.21078796]\n",
      "[0.01149139 0.03690453 0.1560585 ]\n",
      "[-0.02063007 -0.07702942 -0.26265488]\n",
      "[0.02933769 0.06157379 0.21965256]\n",
      "[-0.02152214 -0.11901054 -0.41258163]\n",
      "[0.03832669 0.06572723 0.34538498]\n",
      "[-0.02795105 -0.10100117 -0.62630844]\n",
      "[0.05041699 0.07882843 0.4661705 ]\n",
      "[-0.03511963 -0.09190483 -0.78905563]\n",
      "[0.05736938 0.12942829 0.70534668]\n",
      "[-0.04827271 -0.17268009 -1.08186035]\n",
      "[0.09529953 0.09382019 1.02341156]\n",
      "[-0.05936279 -0.11172485 -1.3367691 ]\n",
      "[0.10364456 0.10613251 1.21511154]\n",
      "[-0.0753479  -0.1460083  -1.68380966]\n",
      "[0.17607365 0.09580326 1.55542145]\n",
      "[-0.0940918  -0.13759003 -2.10878906]\n",
      "[0.18107662 0.13865204 1.97874146]\n",
      "[-0.12219849 -0.16027374 -2.7242218 ]\n",
      "[0.1815197  0.14996338 2.26712723]\n",
      "[-0.50239022 -0.18614044 -3.02742691]\n",
      "[0.19999161 0.15866852 2.71021805]\n",
      "[-0.58850069 -0.27130585 -3.57713089]\n",
      "[0.20836067 0.1998291  3.00062943]\n",
      "[-0.45455487 -0.2372467  -4.08422165]\n",
      "[0.22522392 0.19701538 3.34689636]\n",
      "[-0.40128109 -0.25836029 -4.54517365]\n",
      "[0.25802612 0.24656525 3.26186905]\n",
      "[-0.386693   -0.25292511 -4.85327682]\n",
      "[0.2883791  0.23549347 4.84914551]\n",
      "[-0.39474647 -0.39040222 -5.24125061]\n",
      "[0.31577282 0.25740814 5.18953857]\n",
      "[-0.40169849 -0.42674103 -5.41592865]\n",
      "[0.44302826 0.41081657 5.1576149 ]\n",
      "[-0.42567139 -0.41247559 -6.24421692]\n",
      "[0.45103111 0.49549694 5.77460327]\n",
      "[-0.43729477 -0.44962311 -7.12936821]\n",
      "[0.46931267 0.5237463  5.96803131]\n",
      "[-0.440028   -0.44730225 -7.4796833 ]\n",
      "[0.47109756 0.51822281 6.0649147 ]\n",
      "[-0.44032612 -0.45289307 -7.17268867]\n",
      "[0.4734005  0.48515491 6.086409  ]\n",
      "[-0.44706116 -0.43807373 -7.12743187]\n",
      "[0.46590729 0.50323753 6.0031044 ]\n",
      "[-0.4517971  -0.40764923 -7.3636055 ]\n",
      "[0.48811607 0.47452946 5.82502213]\n",
      "[-0.44082394 -0.38715363 -7.79477425]\n",
      "[0.49128761 0.40399284 5.83981171]\n",
      "[-0.44849758 -0.41496735 -7.10642433]\n",
      "[0.48153343 0.36608448 5.70565643]\n",
      "[-0.43548145 -0.42127686 -6.45693779]\n",
      "[0.47920227 0.38215351 5.75402069]\n",
      "[-0.42520199 -0.43490906 -6.42291832]\n",
      "[0.38003769 0.27141228 5.29944992]\n",
      "[-0.39840775 -0.38205719 -5.46388931]\n",
      "[0.28076782 0.24467926 4.97066879]\n",
      "[-0.39016635 -0.32692719 -5.19025192]\n",
      "[0.2464859  0.25047607 3.42048111]\n",
      "[-0.39107938 -0.24037781 -4.83605576]\n",
      "[0.22859497 0.20356903 3.32272186]\n",
      "[-0.40119092 -0.29830322 -4.3867218 ]\n",
      "[0.19360657 0.19580994 2.98093414]\n",
      "[-0.46124017 -0.24131927 -4.09967499]\n",
      "[0.18738499 0.18165741 2.68609772]\n",
      "[-0.59054461 -0.2182251  -3.59218292]\n",
      "[0.17885947 0.13876495 2.1868515 ]\n",
      "[-0.34038486 -0.18829193 -2.94564209]\n",
      "[0.19186168 0.11100159 1.94259872]\n",
      "[-0.1181427  -0.12507782 -2.63278427]\n",
      "[0.16070528 0.09205933 1.51150208]\n",
      "[-0.10001526 -0.12466125 -2.23151398]\n",
      "[0.1436657  0.09520874 1.22112885]\n",
      "[-0.0743042  -0.10150299 -1.66411896]\n",
      "[0.07301702 0.12099419 0.98754349]\n",
      "[-0.05684814 -0.12172737 -1.28042068]\n",
      "[0.0599566  0.07202454 0.83834457]\n",
      "[-0.04708557 -0.1323307  -1.05364609]\n",
      "[0.04200783 0.10073891 0.5776741 ]\n",
      "[-0.03637695 -0.11475067 -0.82040939]\n",
      "[0.0324719  0.1090086  0.32920303]\n",
      "[-0.02412109 -0.14628277 -0.54608078]\n",
      "[0.0245842  0.05934677 0.17337303]\n",
      "[-0.02564888 -0.16758957 -0.44499664]\n",
      "[0.01889648 0.06349277 0.15953293]\n",
      "[-0.0200161  -0.07196903 -0.16609192]\n",
      "[0.01667175 0.05539722 0.13245049]\n",
      "[-0.01406555 -0.07932796 -0.29063454]\n",
      "[0.02068405 0.04017334 0.18986664]\n",
      "[-0.03037567 -0.07391777 -0.21585541]\n",
      "[0.01199265 0.08383293 0.18031578]\n",
      "[-0.01882324 -0.12351837 -0.17704544]\n",
      "[0.01322327 0.0561264  0.19977417]\n",
      "[-0.01921082 -0.06006489 -0.16694069]\n",
      "[0.01834259 0.05272064 0.15215034]\n",
      "[-0.01239014 -0.11601429 -0.20083504]\n",
      "[0.01410217 0.0957901  0.11356201]\n",
      "[-0.0113266  -0.14591713 -0.17672653]\n",
      "[0.01510849 0.09000702 0.19537239]\n",
      "[-0.01427002 -0.07828865 -0.15295792]\n",
      "[0.02289429 0.12198029 0.09570656]\n",
      "[-0.01797791 -0.09710846 -0.22495384]\n",
      "[0.01846313 0.07975044 0.1667305 ]\n",
      "[-0.01256714 -0.08596764 -0.1433403 ]\n",
      "[0.02368774 0.10559139 0.20483131]\n",
      "[-0.02382202 -0.13765202 -0.34649506]\n",
      "[0.03562737 0.08906555 0.33999023]\n",
      "[-0.02661972 -0.09361229 -0.51295471]\n",
      "[0.05171161 0.07390003 0.54009018]\n",
      "[-0.03472176 -0.09746094 -0.71212692]\n",
      "[0.05894537 0.11326504 0.74773788]\n",
      "[-0.04757996 -0.09636078 -1.07024155]\n",
      "[0.06997948 0.1055191  0.94505386]\n",
      "[-0.053302   -0.13520355 -1.20818863]\n",
      "[0.20303497 0.12974854 1.20055695]\n",
      "[-0.07354736 -0.13109741 -1.65192413]\n",
      "[0.21935282 0.10840607 1.4202919 ]\n",
      "[-0.09173889 -0.16040039 -2.0529686 ]\n",
      "[0.20696468 0.16305618 1.86156082]\n",
      "[-0.11185303 -0.15050201 -2.50299301]\n",
      "[0.20137033 0.16755066 2.16019287]\n",
      "[-0.46461182 -0.23169708 -3.00696869]\n",
      "[0.18825455 0.18866119 2.57893982]\n",
      "[-0.59839847 -0.25815582 -3.53621674]\n",
      "[0.2084198  0.17485199 2.97297821]\n",
      "[-0.46929884 -0.28117676 -4.07553406]\n",
      "[0.21972961 0.22615662 3.31475525]\n",
      "[-0.40057168 -0.26765442 -4.41421051]\n",
      "[0.23417358 0.22519531 4.08793259]\n",
      "[-0.38922668 -0.3321579  -4.88452682]\n",
      "[0.26500854 0.23882141 4.68260422]\n",
      "[-0.38155575 -0.38951263 -5.17798233]\n",
      "[0.41959114 0.2434967  5.04782181]\n",
      "[-0.40918674 -0.43367462 -5.57265854]\n",
      "[0.46838989 0.40980625 5.46818848]\n",
      "[-0.42224216 -0.43100281 -6.05069122]\n",
      "[0.49733238 0.45049572 6.13009872]\n",
      "[-0.43729153 -0.45590515 -6.59258881]\n",
      "[0.48938675 0.50289402 6.0821312 ]\n",
      "[-0.44884224 -0.43993835 -7.044524  ]\n",
      "[0.48183289 0.40913868 5.97944412]\n",
      "[-0.45784435 -0.40727081 -6.66236382]\n",
      "[0.49093552 0.3931015  6.12963486]\n",
      "[-0.46034241 -0.43736572 -7.26101723]\n",
      "[0.49815598 0.45309658 5.77552872]\n",
      "[-0.45273685 -0.42519226 -7.42268944]\n",
      "[0.48933868 0.41253033 5.62786636]\n",
      "[-0.45995655 -0.39751282 -7.44913254]\n",
      "[0.4846447  0.39143658 5.29448166]\n",
      "[-0.44021339 -0.38930511 -7.40684395]\n",
      "[0.47966881 0.32055359 5.3958252 ]\n",
      "[-0.44065228 -0.41066742 -6.34524841]\n",
      "[0.47948074 0.34203186 5.20679398]\n",
      "[-0.44818859 -0.37903442 -6.90714226]\n",
      "[0.29709702 0.35817204 5.18490067]\n",
      "[-0.40022507 -0.37250977 -6.83718834]\n",
      "[0.2569458  0.24567261 4.30018692]\n",
      "[-0.36822498 -0.3239212  -5.18821182]\n",
      "[0.24332275 0.21299133 2.86191025]\n",
      "[-0.39455974 -0.21904449 -4.90813217]\n",
      "[0.22437134 0.20454407 3.25338058]\n",
      "[-0.41805899 -0.23305206 -4.45545883]\n",
      "[0.2116838  0.18204041 2.95920715]\n",
      "[-0.55834849 -0.21234741 -3.95127716]\n",
      "[0.22250013 0.15713043 2.6659317 ]\n",
      "[-0.57725582 -0.22236023 -3.63246307]\n",
      "[0.25473876 0.13872681 2.30379944]\n",
      "[-0.1403717  -0.27891388 -3.12177734]\n",
      "[0.24643955 0.15410004 1.92866364]\n",
      "[-0.11191101 -0.18314972 -2.50158386]\n",
      "[0.24138231 0.10835457 1.47097092]\n",
      "[-0.09718323 -0.15541229 -2.16546402]\n",
      "[0.17659969 0.11259308 1.18950272]\n",
      "[-0.0739624  -0.10657959 -1.65522842]\n",
      "[0.14943342 0.09636078 0.8749939 ]\n",
      "[-0.06185608 -0.10462418 -1.38517761]\n",
      "[0.21743574 0.10341969 0.74603195]\n",
      "[-0.04842834 -0.08714504 -1.08240128]\n",
      "[0.24458523 0.16625557 0.51721115]\n",
      "[-0.03286362 -0.15962715 -0.70345535]\n",
      "[0.27241116 0.15920143 0.38008881]\n",
      "[-0.02640457 -0.13913879 -0.53931427]\n",
      "[0.26060944 0.1137989  0.26843719]\n",
      "[-0.02465515 -0.19124336 -0.4192215 ]\n",
      "[0.09942055 0.1216198  0.24695625]\n",
      "[-0.03191833 -0.21122437 -0.39366417]\n",
      "[0.04890862 0.11148834 0.18142586]\n",
      "[-0.02791443 -0.19981728 -0.35317955]\n",
      "[0.06835628 0.11573334 0.14952621]\n",
      "[-0.02186737 -0.18126297 -0.29716644]\n",
      "[0.04733534 0.11425133 0.28438835]\n",
      "[-0.03443146 -0.19062309 -0.3356041 ]\n",
      "[0.05463467 0.09914017 0.18832397]\n",
      "[-0.01882858 -0.1329874  -0.34569588]\n",
      "[0.04011536 0.10385017 0.23062515]\n",
      "[-0.02888947 -0.11481209 -0.40535011]\n",
      "[0.04832783 0.13715134 0.18890953]\n",
      "[-0.02768707 -0.18788338 -0.45516014]\n",
      "[0.04945836 0.1184082  0.20792999]\n",
      "[-0.02360139 -0.18925495 -0.30043755]\n",
      "[0.04982586 0.12349854 0.17581635]\n",
      "[-0.03370972 -0.20604725 -0.19809265]\n",
      "[0.08342385 0.11622353 0.24205589]\n",
      "[-0.02526245 -0.16731377 -0.22517395]\n",
      "[0.30830097 0.12309265 0.30475974]\n",
      "[-0.02108154 -0.13674088 -0.39677811]\n",
      "[0.29394417 0.10186958 0.31691895]\n",
      "[-0.02869415 -0.15993309 -0.57832031]\n",
      "[0.26590252 0.12704544 0.50344543]\n",
      "[-0.03300476 -0.16133575 -0.74695435]\n",
      "[0.20131521 0.10804024 0.67151031]\n",
      "[-0.05127563 -0.21289101 -1.14649811]\n",
      "[0.22794876 0.13086681 0.96326981]\n",
      "[-0.05965576 -0.13063927 -1.34197006]\n",
      "[0.277209   0.155336   1.22946777]\n",
      "[-0.07376709 -0.15237598 -1.65735626]\n",
      "[0.28773575 0.1552597  1.5695694 ]\n",
      "[-0.09499207 -0.15374298 -2.11920471]\n",
      "[0.34216766 0.17278481 1.83407745]\n",
      "[-0.11351318 -0.21263275 -2.53383331]\n",
      "[0.44830885 0.13824615 2.31132431]\n",
      "[-0.48927269 -0.19438324 -2.93918533]\n",
      "[0.4130249  0.18820648 2.69783554]\n",
      "[-0.58891661 -0.23450165 -3.56156693]\n",
      "[0.38646402 0.18119621 3.01212158]\n",
      "[-0.4615978  -0.25800018 -4.11434174]\n",
      "[0.36857166 0.21291809 3.28156662]\n",
      "[-0.40772457 -0.28318481 -4.57804642]\n",
      "[0.34457755 0.22323151 3.61712265]\n",
      "[-0.39006543 -0.26733093 -5.00035782]\n",
      "[0.31986704 0.24126892 4.59862137]\n",
      "[-0.38815153 -0.39563446 -5.19482193]\n",
      "[0.31520042 0.26157684 5.12688675]\n",
      "[-0.40386524 -0.37022095 -5.62943802]\n",
      "[0.46496353 0.26678162 5.37446518]\n",
      "[-0.44467983 -0.37303314 -6.38548431]\n",
      "[0.46691437 0.3165802  5.18868256]\n",
      "[-0.4518425  -0.39818878 -7.13983727]\n",
      "[0.47601967 0.37051582 5.09776382]\n",
      "[-0.45933628 -0.41427002 -8.32767944]\n",
      "[0.47850266 0.39497414 5.35715561]\n",
      "[-0.46399403 -0.40162354 -8.04812279]\n",
      "[0.48302765 0.3825798  5.49625854]\n",
      "[-0.55941496 -0.41267548 -7.67160759]\n",
      "[0.47588539 0.38387108 5.70481796]\n",
      "[-0.55553207 -0.42728271 -7.77250481]\n",
      "[0.48820305 0.32230682 5.72707672]\n",
      "[-0.46112385 -0.45609894 -8.07837563]\n",
      "[0.48373566 0.31385994 5.64051514]\n",
      "[-0.45486298 -0.43602295 -7.95774307]\n",
      "[0.48107491 0.28613281 5.73239441]\n",
      "[-0.43897457 -0.46762543 -8.0728241 ]\n",
      "[0.46413803 0.27497864 5.35741653]\n",
      "[-0.4280962  -0.39654541 -6.81485596]\n",
      "[0.4788475  0.25192871 5.26556702]\n",
      "[-0.42723694 -0.40113831 -5.53826141]\n",
      "[0.30944734 0.23397675 5.13268204]\n",
      "[-0.36714878 -0.35539246 -5.27075119]\n",
      "[0.32262354 0.22487488 3.504953  ]\n",
      "[-0.37799306 -0.26399384 -4.97771759]\n",
      "[0.34012265 0.21176147 3.35682373]\n",
      "[-0.39073427 -0.27506256 -4.65323334]\n",
      "[0.37064571 0.19398346 3.07091293]\n",
      "[-0.42332656 -0.23624725 -4.23034439]\n",
      "[0.38616524 0.15982819 2.60341263]\n",
      "[-0.58359525 -0.22043762 -3.6538353 ]\n",
      "[0.42564955 0.13950958 2.32990875]\n",
      "[-0.52677751 -0.1626709  -3.19444885]\n",
      "[0.3860671  0.11769676 1.96553879]\n",
      "[-0.12009583 -0.15987091 -2.67947617]\n",
      "140\n"
     ]
    }
   ],
   "source": [
    "import cv2\n",
    "import numpy as np\n",
    "from _dat_reader import read_connectivity_table, read_coordinates_table\n",
    "\n",
    "name_video = '_Test1 - alecsandr27000.mp4'\n",
    "\n",
    "cap = cv2.VideoCapture(name_video)\n",
    "\n",
    "if not cap.isOpened():\n",
    "    print(\"Ошибка открытия видеофайла\")\n",
    "    exit()\n",
    "\n",
    "\n",
    "for i in range(14):\n",
    "    ret, frmae_old = cap.read()\n",
    "\n",
    "ret, frame_old = cap.read()\n",
    "\n",
    "# ret, frame_new = cap.read()\n",
    "a, b, r = frame_old.shape\n",
    "# p0 = construction_grid(a, b, 50, 50)\n",
    "# p0 = (np.load('nodes_for_ilsur.npy')).astype(np.float32)\n",
    "\n",
    "p0 = (np.load('_ravil_coord_table.npy')).astype(np.float32)\n",
    "conn_table = np.load('_ravil_conn_table.npy')\n",
    "\n",
    "# filename = 'triangle_mesh.dat'\n",
    "# conn_table = read_connectivity_table(filename)\n",
    "# node_num, p0 = read_coordinates_table(filename)\n",
    "p0 = p0.reshape(p0.shape[0], 1, 3)[:, :, :2].astype(np.float32)\n",
    "\n",
    "\n",
    "# Переворот по x\n",
    "# p0[:,:,0] *= (-1)\n",
    "# p0[:,:,0] += b\n",
    "\n",
    "color = np.ones((100001, 3)) * 255\n",
    "\n",
    "mask = np.zeros_like(frame_old)\n",
    "# lucas_kanade(frame_old, frame_new, p0)\n",
    "\n",
    "test_dict = {}\n",
    "\n",
    "# print('conn_table = ', conn_table)\n",
    "# print('p0 = ', p0.shape)\n",
    "\n",
    "out_video_name = '_out_video.mp4'\n",
    "fourcc = cv2.VideoWriter_fourcc(*'mp4v')\n",
    "frame_width, frame_height = b, a\n",
    "out_video = cv2.VideoWriter(out_video_name, fourcc, 30.0, (frame_width, frame_height))\n",
    "\n",
    "e_xx = []\n",
    "e_xx_coord = []\n",
    "p1_xx_reshape = []\n",
    "\n",
    "l = 0\n",
    "while True:\n",
    "    l += 1\n",
    "    ret, frame_new = cap.read()\n",
    "    \n",
    "    if not ret:\n",
    "        break\n",
    "\n",
    "    p1, ui = lucas_kanade(frame_old, frame_new, p0)\n",
    "\n",
    "    # MKE\n",
    "    p1_reshape = np.squeeze(p1)\n",
    "    p0_reshape = np.squeeze(p0)\n",
    "    ui_reshape = np.squeeze(ui)\n",
    "    \n",
    "    \n",
    "    e = Calc_defor_for_all_cells(conn_table, p0_reshape, ui_reshape)\n",
    "\n",
    "    e_coord = take_E_coord(conn_table, p1_reshape)\n",
    "\n",
    "    e_xx.append(e[:, 0])\n",
    "    e_xx_coord.append(e_coord)\n",
    "    p1_xx_reshape.append(p1_reshape)\n",
    "\n",
    "    print(np.max(e, axis=0))\n",
    "    print(np.min(e, axis=0))\n",
    "\n",
    "    #\n",
    "    #\n",
    "    # for i, (new, old) in enumerate(zip(p1, p0)):\n",
    "    #     k += 1\n",
    "    #     a, b = new.ravel()\n",
    "    #     c, d = old.ravel()\n",
    "\n",
    "    #     #\n",
    "    #     if k == 108 or k == 201 or k == 508 or k == 908 or \\\n",
    "    #         k == 1094 or k == 1203 or k == 1206 or k == 1322 or \\\n",
    "    #             k == 1632 or k == 1936 or k == 2026:\n",
    "    #         mask = cv2.line(mask, (int(a), int(b)), (int(c), int(d)), [0, 0, 255], 1)\n",
    "    #         frame_new = cv2.circle(frame_new, (int(a), int(b)), 3, [0, 0, 255], -1)\n",
    "\n",
    "    #         if k not in test_dict.keys():\n",
    "    #             test_dict[k] = [ui[k]]\n",
    "    #         else:\n",
    "    #             test_dict[k].append(ui[k])\n",
    "            \n",
    "    #         continue\n",
    "    #     #\n",
    "\n",
    "    #     mask = cv2.line(mask, (int(a), int(b)), (int(c), int(d)), color[i].tolist(), 1)\n",
    "    #     frame_new = cv2.circle(frame_new, (int(a), int(b)), 3, color[i].tolist(), -1)\n",
    "\n",
    "    for point in e_coord:\n",
    "        frame_new = cv2.circle(frame_new, (int(point[0]), int(point[1])), 4, [0, 0, 255], -1)\n",
    "\n",
    "    out_video.write(frame_new)\n",
    "    #img = cv2.add(frame_new, mask)\n",
    "    #cv2.imshow(\"frame\", img)\n",
    "    #out_video.write(img)\n",
    "\n",
    "    k = cv2.waitKey(1) & 0xFF\n",
    "\n",
    "    if k == 27:\n",
    "        break\n",
    "\n",
    "\n",
    "print(l)\n",
    "out_video.release()\n",
    "cap.release()\n",
    "cv2.destroyAllWindows()"
   ]
=======
   "execution_count": 34,
   "metadata": {},
   "outputs": [
    {
     "data": {
      "image/png": "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",
      "text/plain": [
       "<Figure size 640x480 with 1 Axes>"
      ]
     },
     "metadata": {},
     "output_type": "display_data"
    }
   ],
   "source": [
    "plt.plot(p1[:,0], p1[:,1], 'ro')\n",
    "plt.show()"
   ]
  },
  {
   "cell_type": "code",
   "execution_count": 35,
   "metadata": {},
   "outputs": [
    {
     "data": {
      "image/png": "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",
      "text/plain": [
       "<Figure size 640x480 with 1 Axes>"
      ]
     },
     "metadata": {},
     "output_type": "display_data"
    }
   ],
   "source": [
    "plt.plot(p1[:,0], p1[:,1], 'ro')\n",
    "plt.show()"
   ]
  },
  {
   "cell_type": "code",
   "execution_count": 36,
   "metadata": {},
   "outputs": [],
   "source": [
    "p0_sq = np.squeeze(p0)"
   ]
  },
  {
   "cell_type": "code",
   "execution_count": 37,
   "metadata": {},
   "outputs": [
    {
     "data": {
      "text/plain": [
       "array([[1.000e+00, 9.000e+00],\n",
       "       [1.000e+00, 2.500e+01],\n",
       "       [1.000e+00, 4.100e+01],\n",
       "       ...,\n",
       "       [2.157e+03, 7.610e+02],\n",
       "       [2.157e+03, 7.770e+02],\n",
       "       [2.157e+03, 7.930e+02]], dtype=float32)"
      ]
     },
     "execution_count": 37,
     "metadata": {},
     "output_type": "execute_result"
    }
   ],
   "source": [
    "p0_sq"
   ]
  },
  {
   "cell_type": "code",
   "execution_count": 38,
   "metadata": {},
   "outputs": [
    {
     "data": {
      "image/png": "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",
      "text/plain": [
       "<Figure size 640x480 with 1 Axes>"
      ]
     },
     "metadata": {},
     "output_type": "display_data"
    }
   ],
   "source": [
    "plt.plot(p0_sq[:,0], p0_sq[:,1],'ro')\n",
    "plt.show()"
   ]
  },
  {
   "cell_type": "code",
   "execution_count": null,
   "metadata": {},
   "outputs": [],
   "source": []
>>>>>>> c8eda60c0aab4ee1a32d7c107ff005f3750ea096
  }
 ],
 "metadata": {
  "kernelspec": {
   "display_name": "Python 3",
   "language": "python",
   "name": "python3"
  },
  "language_info": {
   "codemirror_mode": {
    "name": "ipython",
    "version": 3
   },
   "file_extension": ".py",
   "mimetype": "text/x-python",
   "name": "python",
   "nbconvert_exporter": "python",
   "pygments_lexer": "ipython3",
   "version": "3.9.5"
  },
  "orig_nbformat": 4
 },
 "nbformat": 4,
 "nbformat_minor": 2
}
